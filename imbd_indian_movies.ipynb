{
  "metadata": {
    "kernelspec": {
      "language": "python",
      "display_name": "Python 3",
      "name": "python3"
    },
    "language_info": {
      "name": "python",
      "version": "3.10.12",
      "mimetype": "text/x-python",
      "codemirror_mode": {
        "name": "ipython",
        "version": 3
      },
      "pygments_lexer": "ipython3",
      "nbconvert_exporter": "python",
      "file_extension": ".py"
    },
    "kaggle": {
      "accelerator": "none",
      "dataSources": [
        {
          "sourceId": 2346296,
          "sourceType": "datasetVersion",
          "datasetId": 1416444
        }
      ],
      "dockerImageVersionId": 30839,
      "isInternetEnabled": false,
      "language": "python",
      "sourceType": "notebook",
      "isGpuEnabled": false
    },
    "colab": {
      "name": "imbd indian movies",
      "provenance": [],
      "include_colab_link": true
    }
  },
  "nbformat_minor": 0,
  "nbformat": 4,
  "cells": [
    {
      "cell_type": "markdown",
      "metadata": {
        "id": "view-in-github",
        "colab_type": "text"
      },
      "source": [
        "<a href=\"https://colab.research.google.com/github/Avinashk101010/Codsoft_internship/blob/main/imbd_indian_movies.ipynb\" target=\"_parent\"><img src=\"https://colab.research.google.com/assets/colab-badge.svg\" alt=\"Open In Colab\"/></a>"
      ]
    },
    {
      "cell_type": "markdown",
      "source": [
        "TASK - 2 : MOVIE RATING PREDICTION WITH PYTHON\n",
        "\n",
        "Author : Avinash kale\n",
        "\n",
        "Domain : Data Science\n",
        "\n",
        "Batch : january B1\n",
        "\n",
        "AIM\n",
        "\n",
        "The aim of this project is to design and implement a predictive model that estimates movie ratings based on key features such as genre, director, and actors. The goal is to analyze historical movie data, identify patterns and relationships between features and ratings, and apply regression techniques to create an accurate model for rating prediction. This project helps in understanding the factors that contribute to movie ratings and demonstrates the application of machine learning techniques in real-world data analysis."
      ],
      "metadata": {
        "id": "j37Fpud21N8a"
      }
    },
    {
      "cell_type": "code",
      "source": [
        "# This Python 3 environment comes with many helpful analytics libraries installed\n",
        "# It is defined by the kaggle/python Docker image: https://github.com/kaggle/docker-python\n",
        "# For example, here's several helpful packages to load\n",
        "\n",
        "import numpy as np # linear algebra\n",
        "import pandas as pd # data processing, CSV file I/O (e.g. pd.read_csv)\n",
        "\n",
        "# Input data files are available in the read-only \"../input/\" directory\n",
        "# For example, running this (by clicking run or pressing Shift+Enter) will list all files under the input directory\n",
        "\n",
        "import os\n",
        "for dirname, _, filenames in os.walk('/kaggle/input'):\n",
        "    for filename in filenames:\n",
        "        print(os.path.join(dirname, filename))\n",
        "\n",
        "# You can write up to 20GB to the current directory (/kaggle/working/) that gets preserved as output when you create a version using \"Save & Run All\"\n",
        "# You can also write temporary files to /kaggle/temp/, but they won't be saved outside of the current session"
      ],
      "metadata": {
        "_uuid": "8f2839f25d086af736a60e9eeb907d3b93b6e0e5",
        "_cell_guid": "b1076dfc-b9ad-4769-8c92-a6c4dae69d19",
        "trusted": true,
        "id": "57xk8gMH1MDb"
      },
      "outputs": [],
      "execution_count": null
    },
    {
      "cell_type": "code",
      "source": [
        "import pandas as pd\n",
        "import numpy as np\n",
        "from sklearn.model_selection import train_test_split\n",
        "from sklearn.feature_extraction.text import CountVectorizer\n",
        "from sklearn.ensemble import RandomForestRegressor\n",
        "from sklearn.metrics import mean_squared_error\n",
        "import joblib"
      ],
      "metadata": {
        "trusted": true,
        "execution": {
          "iopub.status.busy": "2025-01-29T09:36:40.227883Z",
          "iopub.execute_input": "2025-01-29T09:36:40.22806Z",
          "iopub.status.idle": "2025-01-29T09:36:41.856355Z",
          "shell.execute_reply.started": "2025-01-29T09:36:40.228041Z",
          "shell.execute_reply": "2025-01-29T09:36:41.855319Z"
        },
        "id": "VXtbDc_b1MDc"
      },
      "outputs": [],
      "execution_count": null
    },
    {
      "cell_type": "code",
      "source": [
        "import os\n",
        "\n",
        "# Check if the file exists\n",
        "file_path = '/kaggle/input/imdb-india-movies/IMDb Movies India.csv'\n",
        "if os.path.exists(file_path):\n",
        "    print(f\"File '{file_path}' exists!\")\n",
        "\n",
        "# List files in the directory\n",
        "directory_path = '/kaggle/input/imdb-india-movies/'\n",
        "print(\"Files in directory:\", os.listdir(directory_path))\n"
      ],
      "metadata": {
        "trusted": true,
        "execution": {
          "iopub.status.busy": "2025-01-29T09:42:11.838566Z",
          "iopub.execute_input": "2025-01-29T09:42:11.838865Z",
          "iopub.status.idle": "2025-01-29T09:42:11.846385Z",
          "shell.execute_reply.started": "2025-01-29T09:42:11.838847Z",
          "shell.execute_reply": "2025-01-29T09:42:11.845537Z"
        },
        "id": "a-OXm0NK1MDc",
        "outputId": "2551fd5e-1350-4752-ea97-85d1a0147c76"
      },
      "outputs": [
        {
          "name": "stdout",
          "text": "File '/kaggle/input/imdb-india-movies/IMDb Movies India.csv' exists!\nFiles in directory: ['IMDb Movies India.csv']\n",
          "output_type": "stream"
        }
      ],
      "execution_count": null
    },
    {
      "cell_type": "code",
      "source": [
        "import os\n",
        "print(os.listdir('/kaggle/input'))"
      ],
      "metadata": {
        "trusted": true,
        "execution": {
          "iopub.status.busy": "2025-01-29T09:43:37.461586Z",
          "iopub.execute_input": "2025-01-29T09:43:37.461854Z",
          "iopub.status.idle": "2025-01-29T09:43:37.465996Z",
          "shell.execute_reply.started": "2025-01-29T09:43:37.461831Z",
          "shell.execute_reply": "2025-01-29T09:43:37.465085Z"
        },
        "id": "S1t4wklg1MDc",
        "outputId": "c613599e-7149-4331-f231-cbe9b750ce13"
      },
      "outputs": [
        {
          "name": "stdout",
          "text": "['imdb-india-movies']\n",
          "output_type": "stream"
        }
      ],
      "execution_count": null
    },
    {
      "cell_type": "code",
      "source": [
        "print(os.listdir('/kaggle/input/imdb-india-movies/IMDb Movies India.csv')"
      ],
      "metadata": {
        "trusted": true,
        "execution": {
          "iopub.status.busy": "2025-01-29T09:44:31.230999Z",
          "iopub.execute_input": "2025-01-29T09:44:31.231263Z",
          "iopub.status.idle": "2025-01-29T09:44:31.236554Z",
          "shell.execute_reply.started": "2025-01-29T09:44:31.231246Z",
          "shell.execute_reply": "2025-01-29T09:44:31.235249Z"
        },
        "id": "uMukCHXB1MDd",
        "outputId": "7e50219f-5db9-403c-b113-2a77dcf2f769"
      },
      "outputs": [
        {
          "traceback": [
            "\u001b[0;36m  File \u001b[0;32m\"<ipython-input-8-0a673aa365ba>\"\u001b[0;36m, line \u001b[0;32m1\u001b[0m\n\u001b[0;31m    print(os.listdir('/kaggle/input/imdb-india-movies/IMDb Movies India.csv')\u001b[0m\n\u001b[0m                                                                             ^\u001b[0m\n\u001b[0;31mSyntaxError\u001b[0m\u001b[0;31m:\u001b[0m incomplete input\n"
          ],
          "ename": "SyntaxError",
          "evalue": "incomplete input (<ipython-input-8-0a673aa365ba>, line 1)",
          "output_type": "error"
        }
      ],
      "execution_count": null
    },
    {
      "cell_type": "code",
      "source": [
        "import pandas as pd\n",
        "\n",
        "# Load the dataset with the correct encoding\n",
        "data = pd.read_csv('/kaggle/input/imdb-india-movies/IMDb Movies India.csv', encoding='ISO-8859-1')\n",
        "\n",
        "# Display the first few rows to confirm successful loading\n",
        "print(data.head())"
      ],
      "metadata": {
        "trusted": true,
        "execution": {
          "iopub.status.busy": "2025-01-29T09:45:28.336676Z",
          "iopub.execute_input": "2025-01-29T09:45:28.336945Z",
          "iopub.status.idle": "2025-01-29T09:45:28.427392Z",
          "shell.execute_reply.started": "2025-01-29T09:45:28.336928Z",
          "shell.execute_reply": "2025-01-29T09:45:28.426496Z"
        },
        "id": "CxKD_uj01MDd",
        "outputId": "a5ac0950-5b31-4b40-9d11-398b374582f1"
      },
      "outputs": [
        {
          "name": "stdout",
          "text": "                                 Name    Year Duration            Genre  \\\n0                                         NaN      NaN            Drama   \n1  #Gadhvi (He thought he was Gandhi)  (2019)  109 min            Drama   \n2                         #Homecoming  (2021)   90 min   Drama, Musical   \n3                             #Yaaram  (2019)  110 min  Comedy, Romance   \n4                   ...And Once Again  (2010)  105 min            Drama   \n\n   Rating Votes            Director       Actor 1             Actor 2  \\\n0     NaN   NaN       J.S. Randhawa      Manmauji              Birbal   \n1     7.0     8       Gaurav Bakshi  Rasika Dugal      Vivek Ghamande   \n2     NaN   NaN  Soumyajit Majumdar  Sayani Gupta   Plabita Borthakur   \n3     4.4    35          Ovais Khan       Prateik          Ishita Raj   \n4     NaN   NaN        Amol Palekar  Rajat Kapoor  Rituparna Sengupta   \n\n           Actor 3  \n0  Rajendra Bhatia  \n1    Arvind Jangid  \n2       Roy Angana  \n3  Siddhant Kapoor  \n4      Antara Mali  \n",
          "output_type": "stream"
        },
        {
          "name": "stderr",
          "text": "/usr/local/lib/python3.10/dist-packages/pandas/io/formats/format.py:1458: RuntimeWarning: invalid value encountered in greater\n  has_large_values = (abs_vals > 1e6).any()\n/usr/local/lib/python3.10/dist-packages/pandas/io/formats/format.py:1459: RuntimeWarning: invalid value encountered in less\n  has_small_values = ((abs_vals < 10 ** (-self.digits)) & (abs_vals > 0)).any()\n/usr/local/lib/python3.10/dist-packages/pandas/io/formats/format.py:1459: RuntimeWarning: invalid value encountered in greater\n  has_small_values = ((abs_vals < 10 ** (-self.digits)) & (abs_vals > 0)).any()\n",
          "output_type": "stream"
        }
      ],
      "execution_count": null
    },
    {
      "cell_type": "code",
      "source": [
        "data.isnull().sum()"
      ],
      "metadata": {
        "trusted": true,
        "execution": {
          "iopub.status.busy": "2025-01-29T09:45:47.2341Z",
          "iopub.execute_input": "2025-01-29T09:45:47.234422Z",
          "iopub.status.idle": "2025-01-29T09:45:47.250522Z",
          "shell.execute_reply.started": "2025-01-29T09:45:47.234397Z",
          "shell.execute_reply": "2025-01-29T09:45:47.249308Z"
        },
        "id": "V9sPbUBh1MDe",
        "outputId": "e6d3fcb3-aa9d-45a3-d69f-b856d111e721"
      },
      "outputs": [
        {
          "execution_count": 10,
          "output_type": "execute_result",
          "data": {
            "text/plain": "Name           0\nYear         528\nDuration    8269\nGenre       1877\nRating      7590\nVotes       7589\nDirector     525\nActor 1     1617\nActor 2     2384\nActor 3     3144\ndtype: int64"
          },
          "metadata": {}
        }
      ],
      "execution_count": null
    },
    {
      "cell_type": "code",
      "source": [
        "data.isna().sum()"
      ],
      "metadata": {
        "trusted": true,
        "execution": {
          "iopub.status.busy": "2025-01-29T09:46:04.371166Z",
          "iopub.execute_input": "2025-01-29T09:46:04.371471Z",
          "iopub.status.idle": "2025-01-29T09:46:04.381614Z",
          "shell.execute_reply.started": "2025-01-29T09:46:04.371453Z",
          "shell.execute_reply": "2025-01-29T09:46:04.380901Z"
        },
        "id": "YvspF8111MDe",
        "outputId": "20887527-c993-4835-97d7-6d70e81e5411"
      },
      "outputs": [
        {
          "execution_count": 11,
          "output_type": "execute_result",
          "data": {
            "text/plain": "Name           0\nYear         528\nDuration    8269\nGenre       1877\nRating      7590\nVotes       7589\nDirector     525\nActor 1     1617\nActor 2     2384\nActor 3     3144\ndtype: int64"
          },
          "metadata": {}
        }
      ],
      "execution_count": null
    },
    {
      "cell_type": "code",
      "source": [
        "print(data.head())"
      ],
      "metadata": {
        "trusted": true,
        "execution": {
          "iopub.status.busy": "2025-01-29T09:46:21.113171Z",
          "iopub.execute_input": "2025-01-29T09:46:21.113455Z",
          "iopub.status.idle": "2025-01-29T09:46:21.121567Z",
          "shell.execute_reply.started": "2025-01-29T09:46:21.113437Z",
          "shell.execute_reply": "2025-01-29T09:46:21.120574Z"
        },
        "id": "0rBBzQin1MDe",
        "outputId": "84097b80-a9b1-43fb-e79c-3072a62a58f4"
      },
      "outputs": [
        {
          "name": "stdout",
          "text": "                                 Name    Year Duration            Genre  \\\n0                                         NaN      NaN            Drama   \n1  #Gadhvi (He thought he was Gandhi)  (2019)  109 min            Drama   \n2                         #Homecoming  (2021)   90 min   Drama, Musical   \n3                             #Yaaram  (2019)  110 min  Comedy, Romance   \n4                   ...And Once Again  (2010)  105 min            Drama   \n\n   Rating Votes            Director       Actor 1             Actor 2  \\\n0     NaN   NaN       J.S. Randhawa      Manmauji              Birbal   \n1     7.0     8       Gaurav Bakshi  Rasika Dugal      Vivek Ghamande   \n2     NaN   NaN  Soumyajit Majumdar  Sayani Gupta   Plabita Borthakur   \n3     4.4    35          Ovais Khan       Prateik          Ishita Raj   \n4     NaN   NaN        Amol Palekar  Rajat Kapoor  Rituparna Sengupta   \n\n           Actor 3  \n0  Rajendra Bhatia  \n1    Arvind Jangid  \n2       Roy Angana  \n3  Siddhant Kapoor  \n4      Antara Mali  \n",
          "output_type": "stream"
        },
        {
          "name": "stderr",
          "text": "/usr/local/lib/python3.10/dist-packages/pandas/io/formats/format.py:1458: RuntimeWarning: invalid value encountered in greater\n  has_large_values = (abs_vals > 1e6).any()\n/usr/local/lib/python3.10/dist-packages/pandas/io/formats/format.py:1459: RuntimeWarning: invalid value encountered in less\n  has_small_values = ((abs_vals < 10 ** (-self.digits)) & (abs_vals > 0)).any()\n/usr/local/lib/python3.10/dist-packages/pandas/io/formats/format.py:1459: RuntimeWarning: invalid value encountered in greater\n  has_small_values = ((abs_vals < 10 ** (-self.digits)) & (abs_vals > 0)).any()\n",
          "output_type": "stream"
        }
      ],
      "execution_count": null
    },
    {
      "cell_type": "code",
      "source": [
        "data.columns = data.columns.str.strip()"
      ],
      "metadata": {
        "trusted": true,
        "execution": {
          "iopub.status.busy": "2025-01-29T09:46:43.479526Z",
          "iopub.execute_input": "2025-01-29T09:46:43.479798Z",
          "iopub.status.idle": "2025-01-29T09:46:43.483771Z",
          "shell.execute_reply.started": "2025-01-29T09:46:43.479781Z",
          "shell.execute_reply": "2025-01-29T09:46:43.483042Z"
        },
        "id": "VLETqlc_1MDf"
      },
      "outputs": [],
      "execution_count": null
    },
    {
      "cell_type": "code",
      "source": [
        "import pandas as pd\n",
        "\n",
        "# Load the dataset with correct encoding\n",
        "data = pd.read_csv('/kaggle/input/imdb-india-movies/IMDb Movies India.csv', encoding='ISO-8859-1')\n",
        "\n",
        "# Inspect the column names to ensure correctness\n",
        "print(\"Column names in the dataset:\", data.columns)\n",
        "\n",
        "# Update categorical columns based on actual column names\n",
        "categorical_cols = ['Genre', 'Director']  # Adjust as per the dataset\n",
        "\n",
        "# Include 'Actor' columns only if they exist\n",
        "actor_cols = [col for col in ['Actor1', 'Actor2', 'Actor3'] if col in data.columns]\n",
        "categorical_cols.extend(actor_cols)\n",
        "\n",
        "# Fill missing categorical values with 'Unknown'\n",
        "data[categorical_cols] = data[categorical_cols].fillna('Unknown')\n",
        "\n",
        "# Print the first few rows to confirm changes\n",
        "print(data.head())"
      ],
      "metadata": {
        "trusted": true,
        "execution": {
          "iopub.status.busy": "2025-01-29T09:47:08.100098Z",
          "iopub.execute_input": "2025-01-29T09:47:08.100439Z",
          "iopub.status.idle": "2025-01-29T09:47:08.163463Z",
          "shell.execute_reply.started": "2025-01-29T09:47:08.100418Z",
          "shell.execute_reply": "2025-01-29T09:47:08.162735Z"
        },
        "id": "r4CQ_2so1MDf",
        "outputId": "a159d753-e4bc-4c9e-b309-de1b85f4d2e3"
      },
      "outputs": [
        {
          "name": "stdout",
          "text": "Column names in the dataset: Index(['Name', 'Year', 'Duration', 'Genre', 'Rating', 'Votes', 'Director',\n       'Actor 1', 'Actor 2', 'Actor 3'],\n      dtype='object')\n                                 Name    Year Duration            Genre  \\\n0                                         NaN      NaN            Drama   \n1  #Gadhvi (He thought he was Gandhi)  (2019)  109 min            Drama   \n2                         #Homecoming  (2021)   90 min   Drama, Musical   \n3                             #Yaaram  (2019)  110 min  Comedy, Romance   \n4                   ...And Once Again  (2010)  105 min            Drama   \n\n   Rating Votes            Director       Actor 1             Actor 2  \\\n0     NaN   NaN       J.S. Randhawa      Manmauji              Birbal   \n1     7.0     8       Gaurav Bakshi  Rasika Dugal      Vivek Ghamande   \n2     NaN   NaN  Soumyajit Majumdar  Sayani Gupta   Plabita Borthakur   \n3     4.4    35          Ovais Khan       Prateik          Ishita Raj   \n4     NaN   NaN        Amol Palekar  Rajat Kapoor  Rituparna Sengupta   \n\n           Actor 3  \n0  Rajendra Bhatia  \n1    Arvind Jangid  \n2       Roy Angana  \n3  Siddhant Kapoor  \n4      Antara Mali  \n",
          "output_type": "stream"
        },
        {
          "name": "stderr",
          "text": "/usr/local/lib/python3.10/dist-packages/pandas/io/formats/format.py:1458: RuntimeWarning: invalid value encountered in greater\n  has_large_values = (abs_vals > 1e6).any()\n/usr/local/lib/python3.10/dist-packages/pandas/io/formats/format.py:1459: RuntimeWarning: invalid value encountered in less\n  has_small_values = ((abs_vals < 10 ** (-self.digits)) & (abs_vals > 0)).any()\n/usr/local/lib/python3.10/dist-packages/pandas/io/formats/format.py:1459: RuntimeWarning: invalid value encountered in greater\n  has_small_values = ((abs_vals < 10 ** (-self.digits)) & (abs_vals > 0)).any()\n",
          "output_type": "stream"
        }
      ],
      "execution_count": null
    },
    {
      "cell_type": "code",
      "source": [
        "data.head()"
      ],
      "metadata": {
        "trusted": true,
        "execution": {
          "iopub.status.busy": "2025-01-29T09:47:26.853636Z",
          "iopub.execute_input": "2025-01-29T09:47:26.853908Z",
          "iopub.status.idle": "2025-01-29T09:47:26.868135Z",
          "shell.execute_reply.started": "2025-01-29T09:47:26.85389Z",
          "shell.execute_reply": "2025-01-29T09:47:26.867363Z"
        },
        "id": "EPW47x6k1MDf",
        "outputId": "5f5b8457-7207-43ea-f462-005082f27ff9"
      },
      "outputs": [
        {
          "name": "stderr",
          "text": "/usr/local/lib/python3.10/dist-packages/pandas/io/formats/format.py:1458: RuntimeWarning: invalid value encountered in greater\n  has_large_values = (abs_vals > 1e6).any()\n/usr/local/lib/python3.10/dist-packages/pandas/io/formats/format.py:1459: RuntimeWarning: invalid value encountered in less\n  has_small_values = ((abs_vals < 10 ** (-self.digits)) & (abs_vals > 0)).any()\n/usr/local/lib/python3.10/dist-packages/pandas/io/formats/format.py:1459: RuntimeWarning: invalid value encountered in greater\n  has_small_values = ((abs_vals < 10 ** (-self.digits)) & (abs_vals > 0)).any()\n",
          "output_type": "stream"
        },
        {
          "execution_count": 15,
          "output_type": "execute_result",
          "data": {
            "text/plain": "                                 Name    Year Duration            Genre  \\\n0                                         NaN      NaN            Drama   \n1  #Gadhvi (He thought he was Gandhi)  (2019)  109 min            Drama   \n2                         #Homecoming  (2021)   90 min   Drama, Musical   \n3                             #Yaaram  (2019)  110 min  Comedy, Romance   \n4                   ...And Once Again  (2010)  105 min            Drama   \n\n   Rating Votes            Director       Actor 1             Actor 2  \\\n0     NaN   NaN       J.S. Randhawa      Manmauji              Birbal   \n1     7.0     8       Gaurav Bakshi  Rasika Dugal      Vivek Ghamande   \n2     NaN   NaN  Soumyajit Majumdar  Sayani Gupta   Plabita Borthakur   \n3     4.4    35          Ovais Khan       Prateik          Ishita Raj   \n4     NaN   NaN        Amol Palekar  Rajat Kapoor  Rituparna Sengupta   \n\n           Actor 3  \n0  Rajendra Bhatia  \n1    Arvind Jangid  \n2       Roy Angana  \n3  Siddhant Kapoor  \n4      Antara Mali  ",
            "text/html": "<div>\n<style scoped>\n    .dataframe tbody tr th:only-of-type {\n        vertical-align: middle;\n    }\n\n    .dataframe tbody tr th {\n        vertical-align: top;\n    }\n\n    .dataframe thead th {\n        text-align: right;\n    }\n</style>\n<table border=\"1\" class=\"dataframe\">\n  <thead>\n    <tr style=\"text-align: right;\">\n      <th></th>\n      <th>Name</th>\n      <th>Year</th>\n      <th>Duration</th>\n      <th>Genre</th>\n      <th>Rating</th>\n      <th>Votes</th>\n      <th>Director</th>\n      <th>Actor 1</th>\n      <th>Actor 2</th>\n      <th>Actor 3</th>\n    </tr>\n  </thead>\n  <tbody>\n    <tr>\n      <th>0</th>\n      <td></td>\n      <td>NaN</td>\n      <td>NaN</td>\n      <td>Drama</td>\n      <td>NaN</td>\n      <td>NaN</td>\n      <td>J.S. Randhawa</td>\n      <td>Manmauji</td>\n      <td>Birbal</td>\n      <td>Rajendra Bhatia</td>\n    </tr>\n    <tr>\n      <th>1</th>\n      <td>#Gadhvi (He thought he was Gandhi)</td>\n      <td>(2019)</td>\n      <td>109 min</td>\n      <td>Drama</td>\n      <td>7.0</td>\n      <td>8</td>\n      <td>Gaurav Bakshi</td>\n      <td>Rasika Dugal</td>\n      <td>Vivek Ghamande</td>\n      <td>Arvind Jangid</td>\n    </tr>\n    <tr>\n      <th>2</th>\n      <td>#Homecoming</td>\n      <td>(2021)</td>\n      <td>90 min</td>\n      <td>Drama, Musical</td>\n      <td>NaN</td>\n      <td>NaN</td>\n      <td>Soumyajit Majumdar</td>\n      <td>Sayani Gupta</td>\n      <td>Plabita Borthakur</td>\n      <td>Roy Angana</td>\n    </tr>\n    <tr>\n      <th>3</th>\n      <td>#Yaaram</td>\n      <td>(2019)</td>\n      <td>110 min</td>\n      <td>Comedy, Romance</td>\n      <td>4.4</td>\n      <td>35</td>\n      <td>Ovais Khan</td>\n      <td>Prateik</td>\n      <td>Ishita Raj</td>\n      <td>Siddhant Kapoor</td>\n    </tr>\n    <tr>\n      <th>4</th>\n      <td>...And Once Again</td>\n      <td>(2010)</td>\n      <td>105 min</td>\n      <td>Drama</td>\n      <td>NaN</td>\n      <td>NaN</td>\n      <td>Amol Palekar</td>\n      <td>Rajat Kapoor</td>\n      <td>Rituparna Sengupta</td>\n      <td>Antara Mali</td>\n    </tr>\n  </tbody>\n</table>\n</div>"
          },
          "metadata": {}
        }
      ],
      "execution_count": null
    },
    {
      "cell_type": "code",
      "source": [
        "data.tail()\n"
      ],
      "metadata": {
        "trusted": true,
        "execution": {
          "iopub.status.busy": "2025-01-29T09:48:11.078833Z",
          "iopub.execute_input": "2025-01-29T09:48:11.079109Z",
          "iopub.status.idle": "2025-01-29T09:48:11.090022Z",
          "shell.execute_reply.started": "2025-01-29T09:48:11.079091Z",
          "shell.execute_reply": "2025-01-29T09:48:11.08904Z"
        },
        "id": "2JWLtJBT1MDf",
        "outputId": "dac146a9-6768-41cc-eab9-43fdbb8a450d"
      },
      "outputs": [
        {
          "name": "stderr",
          "text": "/usr/local/lib/python3.10/dist-packages/pandas/io/formats/format.py:1458: RuntimeWarning: invalid value encountered in greater\n  has_large_values = (abs_vals > 1e6).any()\n/usr/local/lib/python3.10/dist-packages/pandas/io/formats/format.py:1459: RuntimeWarning: invalid value encountered in less\n  has_small_values = ((abs_vals < 10 ** (-self.digits)) & (abs_vals > 0)).any()\n/usr/local/lib/python3.10/dist-packages/pandas/io/formats/format.py:1459: RuntimeWarning: invalid value encountered in greater\n  has_small_values = ((abs_vals < 10 ** (-self.digits)) & (abs_vals > 0)).any()\n",
          "output_type": "stream"
        },
        {
          "execution_count": 16,
          "output_type": "execute_result",
          "data": {
            "text/plain": "                      Name    Year Duration          Genre  Rating Votes  \\\n15504  Zulm Ko Jala Doonga  (1988)      NaN         Action     4.6    11   \n15505                Zulmi  (1999)  129 min  Action, Drama     4.5   655   \n15506            Zulmi Raj  (2005)      NaN         Action     NaN   NaN   \n15507        Zulmi Shikari  (1988)      NaN         Action     NaN   NaN   \n15508         Zulm-O-Sitam  (1998)  130 min  Action, Drama     6.2    20   \n\n            Director           Actor 1         Actor 2        Actor 3  \n15504  Mahendra Shah  Naseeruddin Shah   Sumeet Saigal  Suparna Anand  \n15505     Kuku Kohli      Akshay Kumar  Twinkle Khanna    Aruna Irani  \n15506     Kiran Thej   Sangeeta Tiwari             NaN            NaN  \n15507        Unknown               NaN             NaN            NaN  \n15508   K.C. Bokadia        Dharmendra      Jaya Prada    Arjun Sarja  ",
            "text/html": "<div>\n<style scoped>\n    .dataframe tbody tr th:only-of-type {\n        vertical-align: middle;\n    }\n\n    .dataframe tbody tr th {\n        vertical-align: top;\n    }\n\n    .dataframe thead th {\n        text-align: right;\n    }\n</style>\n<table border=\"1\" class=\"dataframe\">\n  <thead>\n    <tr style=\"text-align: right;\">\n      <th></th>\n      <th>Name</th>\n      <th>Year</th>\n      <th>Duration</th>\n      <th>Genre</th>\n      <th>Rating</th>\n      <th>Votes</th>\n      <th>Director</th>\n      <th>Actor 1</th>\n      <th>Actor 2</th>\n      <th>Actor 3</th>\n    </tr>\n  </thead>\n  <tbody>\n    <tr>\n      <th>15504</th>\n      <td>Zulm Ko Jala Doonga</td>\n      <td>(1988)</td>\n      <td>NaN</td>\n      <td>Action</td>\n      <td>4.6</td>\n      <td>11</td>\n      <td>Mahendra Shah</td>\n      <td>Naseeruddin Shah</td>\n      <td>Sumeet Saigal</td>\n      <td>Suparna Anand</td>\n    </tr>\n    <tr>\n      <th>15505</th>\n      <td>Zulmi</td>\n      <td>(1999)</td>\n      <td>129 min</td>\n      <td>Action, Drama</td>\n      <td>4.5</td>\n      <td>655</td>\n      <td>Kuku Kohli</td>\n      <td>Akshay Kumar</td>\n      <td>Twinkle Khanna</td>\n      <td>Aruna Irani</td>\n    </tr>\n    <tr>\n      <th>15506</th>\n      <td>Zulmi Raj</td>\n      <td>(2005)</td>\n      <td>NaN</td>\n      <td>Action</td>\n      <td>NaN</td>\n      <td>NaN</td>\n      <td>Kiran Thej</td>\n      <td>Sangeeta Tiwari</td>\n      <td>NaN</td>\n      <td>NaN</td>\n    </tr>\n    <tr>\n      <th>15507</th>\n      <td>Zulmi Shikari</td>\n      <td>(1988)</td>\n      <td>NaN</td>\n      <td>Action</td>\n      <td>NaN</td>\n      <td>NaN</td>\n      <td>Unknown</td>\n      <td>NaN</td>\n      <td>NaN</td>\n      <td>NaN</td>\n    </tr>\n    <tr>\n      <th>15508</th>\n      <td>Zulm-O-Sitam</td>\n      <td>(1998)</td>\n      <td>130 min</td>\n      <td>Action, Drama</td>\n      <td>6.2</td>\n      <td>20</td>\n      <td>K.C. Bokadia</td>\n      <td>Dharmendra</td>\n      <td>Jaya Prada</td>\n      <td>Arjun Sarja</td>\n    </tr>\n  </tbody>\n</table>\n</div>"
          },
          "metadata": {}
        }
      ],
      "execution_count": null
    },
    {
      "cell_type": "code",
      "source": [
        "data.describe()"
      ],
      "metadata": {
        "trusted": true,
        "execution": {
          "iopub.status.busy": "2025-01-29T09:48:30.701594Z",
          "iopub.execute_input": "2025-01-29T09:48:30.701899Z",
          "iopub.status.idle": "2025-01-29T09:48:30.725091Z",
          "shell.execute_reply.started": "2025-01-29T09:48:30.70188Z",
          "shell.execute_reply": "2025-01-29T09:48:30.724256Z"
        },
        "id": "v-iJiDXk1MDf",
        "outputId": "7974f02f-b089-492c-e4db-dfa75904d4ed"
      },
      "outputs": [
        {
          "execution_count": 17,
          "output_type": "execute_result",
          "data": {
            "text/plain": "            Rating\ncount  7919.000000\nmean      5.841621\nstd       1.381777\nmin       1.100000\n25%       4.900000\n50%       6.000000\n75%       6.800000\nmax      10.000000",
            "text/html": "<div>\n<style scoped>\n    .dataframe tbody tr th:only-of-type {\n        vertical-align: middle;\n    }\n\n    .dataframe tbody tr th {\n        vertical-align: top;\n    }\n\n    .dataframe thead th {\n        text-align: right;\n    }\n</style>\n<table border=\"1\" class=\"dataframe\">\n  <thead>\n    <tr style=\"text-align: right;\">\n      <th></th>\n      <th>Rating</th>\n    </tr>\n  </thead>\n  <tbody>\n    <tr>\n      <th>count</th>\n      <td>7919.000000</td>\n    </tr>\n    <tr>\n      <th>mean</th>\n      <td>5.841621</td>\n    </tr>\n    <tr>\n      <th>std</th>\n      <td>1.381777</td>\n    </tr>\n    <tr>\n      <th>min</th>\n      <td>1.100000</td>\n    </tr>\n    <tr>\n      <th>25%</th>\n      <td>4.900000</td>\n    </tr>\n    <tr>\n      <th>50%</th>\n      <td>6.000000</td>\n    </tr>\n    <tr>\n      <th>75%</th>\n      <td>6.800000</td>\n    </tr>\n    <tr>\n      <th>max</th>\n      <td>10.000000</td>\n    </tr>\n  </tbody>\n</table>\n</div>"
          },
          "metadata": {}
        }
      ],
      "execution_count": null
    },
    {
      "cell_type": "code",
      "source": [
        "data = data.dropna(subset=['Rating'])"
      ],
      "metadata": {
        "trusted": true,
        "execution": {
          "iopub.status.busy": "2025-01-29T09:48:54.440932Z",
          "iopub.execute_input": "2025-01-29T09:48:54.441196Z",
          "iopub.status.idle": "2025-01-29T09:48:54.449213Z",
          "shell.execute_reply.started": "2025-01-29T09:48:54.441179Z",
          "shell.execute_reply": "2025-01-29T09:48:54.448242Z"
        },
        "id": "a5osvoM01MDg"
      },
      "outputs": [],
      "execution_count": null
    },
    {
      "cell_type": "code",
      "source": [
        "# Drop rows where the target variable (Rating) is missing\n",
        "data = data.dropna(subset=['Rating'])\n",
        "\n",
        "# Fill missing values in other columns with empty strings (for text features)\n",
        "text_columns = ['Genre', 'Director', 'Actor 1', 'Actor 2', 'Actor 3']\n",
        "for col in text_columns:\n",
        "    data[col] = data[col].fillna(\"\")"
      ],
      "metadata": {
        "trusted": true,
        "execution": {
          "iopub.status.busy": "2025-01-29T09:49:44.460073Z",
          "iopub.execute_input": "2025-01-29T09:49:44.460329Z",
          "iopub.status.idle": "2025-01-29T09:49:44.470129Z",
          "shell.execute_reply.started": "2025-01-29T09:49:44.460313Z",
          "shell.execute_reply": "2025-01-29T09:49:44.469366Z"
        },
        "id": "R2ZlBXNz1MDg"
      },
      "outputs": [],
      "execution_count": null
    },
    {
      "cell_type": "code",
      "source": [
        "import seaborn as sns\n",
        "\n",
        "# EDA\n",
        "sns.countplot(data=data, x=\"Year\")"
      ],
      "metadata": {
        "trusted": true,
        "execution": {
          "iopub.status.busy": "2025-01-29T09:50:13.209575Z",
          "iopub.execute_input": "2025-01-29T09:50:13.209864Z",
          "iopub.status.idle": "2025-01-29T09:50:14.428285Z",
          "shell.execute_reply.started": "2025-01-29T09:50:13.209846Z",
          "shell.execute_reply": "2025-01-29T09:50:14.42743Z"
        },
        "id": "LkPud8Q61MDg",
        "outputId": "b22271f1-f6ea-409a-b260-d089e7d67159"
      },
      "outputs": [
        {
          "execution_count": 22,
          "output_type": "execute_result",
          "data": {
            "text/plain": "<Axes: xlabel='Year', ylabel='count'>"
          },
          "metadata": {}
        },
        {
          "output_type": "display_data",
          "data": {
            "text/plain": "<Figure size 640x480 with 1 Axes>",
            "image/png": "[encoded data removed]"
          },
          "metadata": {}
        }
      ],
      "execution_count": null
    },
    {
      "cell_type": "code",
      "source": [
        "import matplotlib.pyplot as plt\n",
        "plt.figure(figsize=(10,6))\n",
        "sns.countplot(data=data,x=\"Genre\")\n",
        "plt.title(\"Count of Movies by Genre\")\n",
        "plt.xlabel(\"Genre\")\n",
        "plt.ylabel(\"Count\")\n",
        "plt.show()"
      ],
      "metadata": {
        "trusted": true,
        "execution": {
          "iopub.status.busy": "2025-01-29T09:50:48.74058Z",
          "iopub.execute_input": "2025-01-29T09:50:48.740992Z",
          "iopub.status.idle": "2025-01-29T09:50:51.129416Z",
          "shell.execute_reply.started": "2025-01-29T09:50:48.740974Z",
          "shell.execute_reply": "2025-01-29T09:50:51.128656Z"
        },
        "id": "CArGMiAU1MDg",
        "outputId": "45db0b40-8c50-4526-9efd-aa6ad20aa008"
      },
      "outputs": [
        {
          "output_type": "display_data",
          "data": {
            "text/plain": "<Figure size 1000x600 with 1 Axes>",
            "image/png": "[encoded data removed]"
          },
          "metadata": {}
        }
      ],
      "execution_count": null
    },
    {
      "cell_type": "code",
      "source": [
        "from sklearn.feature_extraction.text import CountVectorizer\n",
        "\n",
        "vectorizer = CountVectorizer()\n",
        "genre_features = vectorizer.fit_transform(data['Genre']).toarray()\n",
        "director_features = vectorizer.fit_transform(data['Director']).toarray()\n",
        "\n",
        "# Check if 'Actors' column exists before processing\n",
        "if 'Actors' in data.columns:\n",
        "    actors_features = vectorizer.fit_transform(data['Actors']).toarray()\n",
        "else:\n",
        "    print(\"The 'Actors' column is missing.\")"
      ],
      "metadata": {
        "trusted": true,
        "execution": {
          "iopub.status.busy": "2025-01-29T09:51:18.332662Z",
          "iopub.execute_input": "2025-01-29T09:51:18.33295Z",
          "iopub.status.idle": "2025-01-29T09:51:18.428315Z",
          "shell.execute_reply.started": "2025-01-29T09:51:18.332932Z",
          "shell.execute_reply": "2025-01-29T09:51:18.427176Z"
        },
        "id": "ZKWO6eEM1MDg",
        "outputId": "1a464330-1826-4a9e-dc11-fbe02e562ddd"
      },
      "outputs": [
        {
          "name": "stdout",
          "text": "The 'Actors' column is missing.\n",
          "output_type": "stream"
        }
      ],
      "execution_count": null
    },
    {
      "cell_type": "code",
      "source": [
        "# Convert the 'Year' column to numeric\n",
        "data['Year'] = data['Year'].str.extract('(\\d{4})').astype(float)\n",
        "\n",
        "# Handle the 'Duration' column\n",
        "data['Duration'] = data['Duration'].str.replace(' min', '').astype(float)\n",
        "\n",
        "# Combine text features for vectorization\n",
        "data['Combined_Text'] = (\n",
        "    data['Genre'] + \" \" +\n",
        "    data['Director'] + \" \" +\n",
        "    data['Actor 1'] + \" \" +\n",
        "    data['Actor 2'] + \" \" +\n",
        "    data['Actor 3']\n",
        ")"
      ],
      "metadata": {
        "trusted": true,
        "execution": {
          "iopub.status.busy": "2025-01-29T09:51:46.93682Z",
          "iopub.execute_input": "2025-01-29T09:51:46.937107Z",
          "iopub.status.idle": "2025-01-29T09:51:46.959305Z",
          "shell.execute_reply.started": "2025-01-29T09:51:46.937086Z",
          "shell.execute_reply": "2025-01-29T09:51:46.958303Z"
        },
        "id": "yahLpIBb1MDg"
      },
      "outputs": [],
      "execution_count": null
    },
    {
      "cell_type": "code",
      "source": [
        "print(data['Year'].dtype)\n",
        "print(data['Year'].unique())\n",
        "# Ensure Year is treated as a string, then extract the year\n",
        "data['Year'] = data['Year'].astype(str).str.extract('(\\d{4})').astype(float)"
      ],
      "metadata": {
        "trusted": true,
        "execution": {
          "iopub.status.busy": "2025-01-29T09:52:15.496048Z",
          "iopub.execute_input": "2025-01-29T09:52:15.496382Z",
          "iopub.status.idle": "2025-01-29T09:52:15.518013Z",
          "shell.execute_reply.started": "2025-01-29T09:52:15.496319Z",
          "shell.execute_reply": "2025-01-29T09:52:15.51716Z"
        },
        "id": "Ex9NwCSM1MDg",
        "outputId": "14f13a29-d7f0-4a62-a359-83869fae8ba0"
      },
      "outputs": [
        {
          "name": "stdout",
          "text": "float64\n[2019. 1997. 2005. 2012. 2014. 2004. 2016. 1991. 2018. 2010. 1958. 2021.\n 2017. 2009. 1993. 2002. 1946. 2008. 1994. 2007. 2013. 2003. 1998. 1979.\n 1951. 1956. 1974. 2015. 2006. 1981. 2020. 1985. 2011. 1967. 1988. 1995.\n 1987. 1996. 1999. 1973. 1968. 1943. 1953. 1986. 1982. 1977. 1950. 1969.\n 1948. 1970. 1990. 1989. 1947. 2001. 2000. 1971. 1978. 1944. 1963. 1935.\n 1992. 1976. 1984. 1975. 1980. 1966. 1972. 1960. 1964. 1952. 1959. 1957.\n 1954. 1962. 1961. 1965. 1933. 1955. 1983. 1936. 1940. 1932. 1949. 1945.\n 1938. 1941. 1942. 1937. 1934. 1931. 1939. 1917.]\n",
          "output_type": "stream"
        }
      ],
      "execution_count": null
    },
    {
      "cell_type": "code",
      "source": [
        "if 'data' not in globals():\n",
        "    print(\"The variable 'data' is not defined. Please load the dataset first.\")\n",
        "else:\n",
        "    print(\"The variable 'data' is already defined.\")"
      ],
      "metadata": {
        "trusted": true,
        "execution": {
          "iopub.status.busy": "2025-01-29T09:52:34.021917Z",
          "iopub.execute_input": "2025-01-29T09:52:34.02219Z",
          "iopub.status.idle": "2025-01-29T09:52:34.026245Z",
          "shell.execute_reply.started": "2025-01-29T09:52:34.022173Z",
          "shell.execute_reply": "2025-01-29T09:52:34.025146Z"
        },
        "id": "tfP-1gwy1MDg",
        "outputId": "302b894e-ac9b-45f7-8a92-ff37065b6fb8"
      },
      "outputs": [
        {
          "name": "stdout",
          "text": "The variable 'data' is already defined.\n",
          "output_type": "stream"
        }
      ],
      "execution_count": null
    },
    {
      "cell_type": "code",
      "source": [
        "import os\n",
        "for dirname, _, filenames in os.walk('/kaggle/input'):\n",
        "    for filename in filenames:\n",
        "        print(os.path.join(dirname, filename))"
      ],
      "metadata": {
        "trusted": true,
        "execution": {
          "iopub.status.busy": "2025-01-29T09:52:57.838212Z",
          "iopub.execute_input": "2025-01-29T09:52:57.838559Z",
          "iopub.status.idle": "2025-01-29T09:52:57.857308Z",
          "shell.execute_reply.started": "2025-01-29T09:52:57.838536Z",
          "shell.execute_reply": "2025-01-29T09:52:57.85667Z"
        },
        "id": "0uNkrjrS1MDg",
        "outputId": "1898ae2c-2d0a-46be-b87e-e329ebb18625"
      },
      "outputs": [
        {
          "name": "stdout",
          "text": "/kaggle/input/imdb-india-movies/IMDb Movies India.csv\n",
          "output_type": "stream"
        }
      ],
      "execution_count": null
    },
    {
      "cell_type": "code",
      "source": [
        "data = pd.read_csv(\"/kaggle/input/imdb-india-movies/IMDb Movies India.csv\", encoding='ISO-8859-1')\n",
        "print(\"Dataset loaded successfully!\")"
      ],
      "metadata": {
        "trusted": true,
        "execution": {
          "iopub.status.busy": "2025-01-29T09:53:15.340007Z",
          "iopub.execute_input": "2025-01-29T09:53:15.340289Z",
          "iopub.status.idle": "2025-01-29T09:53:15.375914Z",
          "shell.execute_reply.started": "2025-01-29T09:53:15.340271Z",
          "shell.execute_reply": "2025-01-29T09:53:15.375229Z"
        },
        "id": "kToZbmE81MDg",
        "outputId": "470df05e-70ba-4758-d9a7-3e50a2233573"
      },
      "outputs": [
        {
          "name": "stdout",
          "text": "Dataset loaded successfully!\n",
          "output_type": "stream"
        }
      ],
      "execution_count": null
    },
    {
      "cell_type": "code",
      "source": [
        "import matplotlib.pyplot as plt\n",
        "plt.figure(figsize=(10,6))\n",
        "sns.countplot(data=data,x=\"Actor 1\")\n",
        "plt.title(\"Count of Movies by Actor 1\")\n",
        "plt.xlabel(\"Actor 1\")\n",
        "plt.ylabel(\"Count\")\n",
        "plt.show()\n"
      ],
      "metadata": {
        "trusted": true,
        "id": "nEr2TFvT1MDh"
      },
      "outputs": [],
      "execution_count": null
    },
    {
      "cell_type": "code",
      "source": [
        "import plotly.express as px\n",
        "# Example 1: Bar Plot - Count of movies by Genre\n",
        "fig_bar = px.bar(\n",
        "    data,\n",
        "    x='Genre',\n",
        "    title='Count of Movies by Genre',\n",
        "    color='Genre',\n",
        "    labels={'Genre': 'Movie Genre'},\n",
        "    height=400\n",
        ")\n",
        "fig_bar.update_layout(xaxis_title='Genre', yaxis_title='Count')\n",
        "fig_bar.show()"
      ],
      "metadata": {
        "trusted": true,
        "id": "QB96BO731MDh"
      },
      "outputs": [],
      "execution_count": null
    },
    {
      "cell_type": "code",
      "source": [
        "# Convert 'Votes' column to numeric\n",
        "data['Votes'] = pd.to_numeric(data['Votes'], errors='coerce')"
      ],
      "metadata": {
        "trusted": true,
        "id": "vB3abvR41MDh"
      },
      "outputs": [],
      "execution_count": null
    },
    {
      "cell_type": "code",
      "source": [
        "# Fill missing categorical values with 'Unknown'\n",
        "categorical_cols = ['Genre', 'Director', 'Actor 1', 'Actor 2', 'Actor 3']\n",
        "data[categorical_cols] = data[categorical_cols].fillna('Unknown')"
      ],
      "metadata": {
        "trusted": true,
        "id": "KIjzV-y21MDh"
      },
      "outputs": [],
      "execution_count": null
    },
    {
      "cell_type": "code",
      "source": [
        "#Convert 'Votes' to numeric\n",
        "data['Votes'] = data['Votes'].replace(',', '', regex=True).astype(float, errors='ignore')"
      ],
      "metadata": {
        "trusted": true,
        "id": "6wWyAqoy1MDh"
      },
      "outputs": [],
      "execution_count": null
    },
    {
      "cell_type": "code",
      "source": [
        "# Vectorize 'Genre', 'Director', and 'Actors'\n",
        "genre_features = vectorizer.fit_transform(data['Genre']).toarray()\n",
        "director_features = vectorizer.fit_transform(data['Director']).toarray()\n",
        "actors_features = vectorizer.fit_transform(data['Actors']).toarray()"
      ],
      "metadata": {
        "trusted": true,
        "id": "kDysJrri1MDh"
      },
      "outputs": [],
      "execution_count": null
    },
    {
      "cell_type": "code",
      "source": [
        "# Drop rows with NaN values in the correct 'size' column (adjust column name as needed)\n",
        "data = data.dropna(subset=['Votes'])  # Replace 'Votes' with the actual column name\n",
        "\n",
        "# Scatter Plot - Rating vs Votes\n",
        "fig_scatter = px.scatter(\n",
        "    data,\n",
        "    x='Votes',\n",
        "    y='Rating',\n",
        "    size='Votes',  # Use the correct column name here\n",
        "    title='Rating vs Votes'\n",
        ")\n",
        "\n",
        "# Show the plot\n",
        "fig_scatter.show()"
      ],
      "metadata": {
        "trusted": true,
        "id": "hcs-Rs1o1MDh"
      },
      "outputs": [],
      "execution_count": null
    },
    {
      "cell_type": "code",
      "source": [
        "import numpy as np\n",
        "\n",
        "# Check the shape of each array\n",
        "print(\"Genre features shape:\", genre_features.shape)\n",
        "print(\"Director features shape:\", director_features.shape)\n",
        "print(\"Actors features shape:\", actors_features.shape)\n",
        "\n",
        "# Find the minimum number of rows (samples) across all features\n",
        "min_size = min(genre_features.shape[0], director_features.shape[0], actors_features.shape[0])\n",
        "\n",
        "# Trim all features to the minimum size\n",
        "genre_features = genre_features[:min_size]\n",
        "director_features = director_features[:min_size]\n",
        "actors_features = actors_features[:min_size]\n",
        "\n",
        "# Now, concatenate the features along the second axis (columns)\n",
        "X = np.hstack([\n",
        "    genre_features,\n",
        "    director_features,\n",
        "    actors_features,\n",
        "])\n",
        "\n",
        "# Verify the shape of the resulting array\n",
        "print(\"Combined features shape:\", X.shape)"
      ],
      "metadata": {
        "trusted": true,
        "execution": {
          "iopub.status.busy": "2025-01-29T10:02:22.865774Z",
          "iopub.execute_input": "2025-01-29T10:02:22.86609Z",
          "iopub.status.idle": "2025-01-29T10:02:22.884908Z",
          "shell.execute_reply.started": "2025-01-29T10:02:22.866069Z",
          "shell.execute_reply": "2025-01-29T10:02:22.88371Z"
        },
        "id": "1L_pHmL61MDh",
        "outputId": "c82fa680-9ccd-4245-a1c4-5bbdbf33117d"
      },
      "outputs": [
        {
          "name": "stdout",
          "text": "Genre features shape: (7919, 24)\nDirector features shape: (7919, 3024)\n",
          "output_type": "stream"
        },
        {
          "traceback": [
            "\u001b[0;31m---------------------------------------------------------------------------\u001b[0m",
            "\u001b[0;31mNameError\u001b[0m                                 Traceback (most recent call last)",
            "\u001b[0;32m<ipython-input-32-9c99f245676e>\u001b[0m in \u001b[0;36m<cell line: 6>\u001b[0;34m()\u001b[0m\n\u001b[1;32m      4\u001b[0m \u001b[0mprint\u001b[0m\u001b[0;34m(\u001b[0m\u001b[0;34m\"Genre features shape:\"\u001b[0m\u001b[0;34m,\u001b[0m \u001b[0mgenre_features\u001b[0m\u001b[0;34m.\u001b[0m\u001b[0mshape\u001b[0m\u001b[0;34m)\u001b[0m\u001b[0;34m\u001b[0m\u001b[0;34m\u001b[0m\u001b[0m\n\u001b[1;32m      5\u001b[0m \u001b[0mprint\u001b[0m\u001b[0;34m(\u001b[0m\u001b[0;34m\"Director features shape:\"\u001b[0m\u001b[0;34m,\u001b[0m \u001b[0mdirector_features\u001b[0m\u001b[0;34m.\u001b[0m\u001b[0mshape\u001b[0m\u001b[0;34m)\u001b[0m\u001b[0;34m\u001b[0m\u001b[0;34m\u001b[0m\u001b[0m\n\u001b[0;32m----> 6\u001b[0;31m \u001b[0mprint\u001b[0m\u001b[0;34m(\u001b[0m\u001b[0;34m\"Actors features shape:\"\u001b[0m\u001b[0;34m,\u001b[0m \u001b[0mactors_features\u001b[0m\u001b[0;34m.\u001b[0m\u001b[0mshape\u001b[0m\u001b[0;34m)\u001b[0m\u001b[0;34m\u001b[0m\u001b[0;34m\u001b[0m\u001b[0m\n\u001b[0m\u001b[1;32m      7\u001b[0m \u001b[0;34m\u001b[0m\u001b[0m\n\u001b[1;32m      8\u001b[0m \u001b[0;31m# Find the minimum number of rows (samples) across all features\u001b[0m\u001b[0;34m\u001b[0m\u001b[0;34m\u001b[0m\u001b[0m\n",
            "\u001b[0;31mNameError\u001b[0m: name 'actors_features' is not defined"
          ],
          "ename": "NameError",
          "evalue": "name 'actors_features' is not defined",
          "output_type": "error"
        }
      ],
      "execution_count": null
    },
    {
      "cell_type": "code",
      "source": [
        "# Import necessary libraries\n",
        "from sklearn.model_selection import train_test_split\n",
        "import numpy as np\n",
        "\n",
        "# Define X and y (Replace this with your actual data)\n",
        "# X is your features (e.g., your independent variables)\n",
        "# y is your target variable (e.g., your dependent variable)\n",
        "\n",
        "# Example:\n",
        "X = np.random.rand(100, 5)  # 100 samples, 5 features\n",
        "y = np.random.randint(0, 2, size=100)  # Binary target variable (0 or 1)\n",
        "\n",
        "# Split the dataset into training and testing sets (80% train, 20% test)\n",
        "X_train, X_test, y_train, y_test = train_test_split(X, y, test_size=0.2, random_state=42)\n",
        "\n",
        "# Check the split sizes\n",
        "print(\"Training features shape:\", X_train.shape)\n",
        "print(\"Testing features shape:\", X_test.shape)\n",
        "print(\"Training labels shape:\", y_train.shape)\n",
        "print(\"Testing labels shape:\", y_test.shape)"
      ],
      "metadata": {
        "trusted": true,
        "execution": {
          "iopub.status.busy": "2025-01-29T10:02:31.393146Z",
          "iopub.execute_input": "2025-01-29T10:02:31.393515Z",
          "iopub.status.idle": "2025-01-29T10:02:31.401636Z",
          "shell.execute_reply.started": "2025-01-29T10:02:31.393487Z",
          "shell.execute_reply": "2025-01-29T10:02:31.40043Z"
        },
        "id": "4Nu4lpXi1MDh",
        "outputId": "fc6bbd40-72cb-48e8-8eea-8f7174080a1b"
      },
      "outputs": [
        {
          "name": "stdout",
          "text": "Training features shape: (80, 5)\nTesting features shape: (20, 5)\nTraining labels shape: (80,)\nTesting labels shape: (20,)\n",
          "output_type": "stream"
        }
      ],
      "execution_count": null
    },
    {
      "cell_type": "code",
      "source": [
        "# Train a Random Forest Regressor\n",
        "# Import necessary libraries\n",
        "from sklearn.ensemble import RandomForestRegressor\n",
        "\n",
        "model = RandomForestRegressor(n_estimators=100, random_state=42)\n",
        "model.fit(X_train, y_train)"
      ],
      "metadata": {
        "trusted": true,
        "execution": {
          "iopub.status.busy": "2025-01-29T10:02:53.697874Z",
          "iopub.execute_input": "2025-01-29T10:02:53.69818Z",
          "iopub.status.idle": "2025-01-29T10:02:53.815741Z",
          "shell.execute_reply.started": "2025-01-29T10:02:53.698156Z",
          "shell.execute_reply": "2025-01-29T10:02:53.814562Z"
        },
        "id": "Kp91nhNt1MDi",
        "outputId": "43048d44-255c-4b3d-d135-0a1c6d49d9cd"
      },
      "outputs": [
        {
          "execution_count": 34,
          "output_type": "execute_result",
          "data": {
            "text/plain": "RandomForestRegressor(random_state=42)",
            "text/html": "<style>#sk-container-id-1 {color: black;background-color: white;}#sk-container-id-1 pre{padding: 0;}#sk-container-id-1 div.sk-toggleable {background-color: white;}#sk-container-id-1 label.sk-toggleable__label {cursor: pointer;display: block;width: 100%;margin-bottom: 0;padding: 0.3em;box-sizing: border-box;text-align: center;}#sk-container-id-1 label.sk-toggleable__label-arrow:before {content: \"▸\";float: left;margin-right: 0.25em;color: #696969;}#sk-container-id-1 label.sk-toggleable__label-arrow:hover:before {color: black;}#sk-container-id-1 div.sk-estimator:hover label.sk-toggleable__label-arrow:before {color: black;}#sk-container-id-1 div.sk-toggleable__content {max-height: 0;max-width: 0;overflow: hidden;text-align: left;background-color: #f0f8ff;}#sk-container-id-1 div.sk-toggleable__content pre {margin: 0.2em;color: black;border-radius: 0.25em;background-color: #f0f8ff;}#sk-container-id-1 input.sk-toggleable__control:checked~div.sk-toggleable__content {max-height: 200px;max-width: 100%;overflow: auto;}#sk-container-id-1 input.sk-toggleable__control:checked~label.sk-toggleable__label-arrow:before {content: \"▾\";}#sk-container-id-1 div.sk-estimator input.sk-toggleable__control:checked~label.sk-toggleable__label {background-color: #d4ebff;}#sk-container-id-1 div.sk-label input.sk-toggleable__control:checked~label.sk-toggleable__label {background-color: #d4ebff;}#sk-container-id-1 input.sk-hidden--visually {border: 0;clip: rect(1px 1px 1px 1px);clip: rect(1px, 1px, 1px, 1px);height: 1px;margin: -1px;overflow: hidden;padding: 0;position: absolute;width: 1px;}#sk-container-id-1 div.sk-estimator {font-family: monospace;background-color: #f0f8ff;border: 1px dotted black;border-radius: 0.25em;box-sizing: border-box;margin-bottom: 0.5em;}#sk-container-id-1 div.sk-estimator:hover {background-color: #d4ebff;}#sk-container-id-1 div.sk-parallel-item::after {content: \"\";width: 100%;border-bottom: 1px solid gray;flex-grow: 1;}#sk-container-id-1 div.sk-label:hover label.sk-toggleable__label {background-color: #d4ebff;}#sk-container-id-1 div.sk-serial::before {content: \"\";position: absolute;border-left: 1px solid gray;box-sizing: border-box;top: 0;bottom: 0;left: 50%;z-index: 0;}#sk-container-id-1 div.sk-serial {display: flex;flex-direction: column;align-items: center;background-color: white;padding-right: 0.2em;padding-left: 0.2em;position: relative;}#sk-container-id-1 div.sk-item {position: relative;z-index: 1;}#sk-container-id-1 div.sk-parallel {display: flex;align-items: stretch;justify-content: center;background-color: white;position: relative;}#sk-container-id-1 div.sk-item::before, #sk-container-id-1 div.sk-parallel-item::before {content: \"\";position: absolute;border-left: 1px solid gray;box-sizing: border-box;top: 0;bottom: 0;left: 50%;z-index: -1;}#sk-container-id-1 div.sk-parallel-item {display: flex;flex-direction: column;z-index: 1;position: relative;background-color: white;}#sk-container-id-1 div.sk-parallel-item:first-child::after {align-self: flex-end;width: 50%;}#sk-container-id-1 div.sk-parallel-item:last-child::after {align-self: flex-start;width: 50%;}#sk-container-id-1 div.sk-parallel-item:only-child::after {width: 0;}#sk-container-id-1 div.sk-dashed-wrapped {border: 1px dashed gray;margin: 0 0.4em 0.5em 0.4em;box-sizing: border-box;padding-bottom: 0.4em;background-color: white;}#sk-container-id-1 div.sk-label label {font-family: monospace;font-weight: bold;display: inline-block;line-height: 1.2em;}#sk-container-id-1 div.sk-label-container {text-align: center;}#sk-container-id-1 div.sk-container {/* jupyter's `normalize.less` sets `[hidden] { display: none; }` but bootstrap.min.css set `[hidden] { display: none !important; }` so we also need the `!important` here to be able to override the default hidden behavior on the sphinx rendered scikit-learn.org. See: https://github.com/scikit-learn/scikit-learn/issues/21755 */display: inline-block !important;position: relative;}#sk-container-id-1 div.sk-text-repr-fallback {display: none;}</style><div id=\"sk-container-id-1\" class=\"sk-top-container\"><div class=\"sk-text-repr-fallback\"><pre>RandomForestRegressor(random_state=42)</pre><b>In a Jupyter environment, please rerun this cell to show the HTML representation or trust the notebook. <br />On GitHub, the HTML representation is unable to render, please try loading this page with nbviewer.org.</b></div><div class=\"sk-container\" hidden><div class=\"sk-item\"><div class=\"sk-estimator sk-toggleable\"><input class=\"sk-toggleable__control sk-hidden--visually\" id=\"sk-estimator-id-1\" type=\"checkbox\" checked><label for=\"sk-estimator-id-1\" class=\"sk-toggleable__label sk-toggleable__label-arrow\">RandomForestRegressor</label><div class=\"sk-toggleable__content\"><pre>RandomForestRegressor(random_state=42)</pre></div></div></div></div></div>"
          },
          "metadata": {}
        }
      ],
      "execution_count": null
    },
    {
      "cell_type": "code",
      "source": [
        "# Evaluate the model\n",
        "# Import necessary libraries\n",
        "from sklearn.metrics import mean_squared_error\n",
        "import numpy as np\n",
        "\n",
        "\n",
        "\n",
        "y_pred = model.predict(X_test)\n",
        "rmse = np.sqrt(mean_squared_error(y_test, y_pred))"
      ],
      "metadata": {
        "trusted": true,
        "execution": {
          "iopub.status.busy": "2025-01-29T10:03:19.069094Z",
          "iopub.execute_input": "2025-01-29T10:03:19.069429Z",
          "iopub.status.idle": "2025-01-29T10:03:19.079219Z",
          "shell.execute_reply.started": "2025-01-29T10:03:19.06941Z",
          "shell.execute_reply": "2025-01-29T10:03:19.078311Z"
        },
        "id": "jc_2YemQ1MDi"
      },
      "outputs": [],
      "execution_count": null
    },
    {
      "cell_type": "code",
      "source": [
        "print(f\"Root Mean Squared Error (RMSE): {rmse}\")"
      ],
      "metadata": {
        "trusted": true,
        "execution": {
          "iopub.status.busy": "2025-01-29T10:04:50.705326Z",
          "iopub.execute_input": "2025-01-29T10:04:50.705728Z",
          "iopub.status.idle": "2025-01-29T10:04:50.710653Z",
          "shell.execute_reply.started": "2025-01-29T10:04:50.705699Z",
          "shell.execute_reply": "2025-01-29T10:04:50.709739Z"
        },
        "id": "1LyuTm0c1MDi",
        "outputId": "abaaefc4-299b-4c57-f0a4-ac0045df465e"
      },
      "outputs": [
        {
          "name": "stdout",
          "text": "Root Mean Squared Error (RMSE): 0.5910076141641493\n",
          "output_type": "stream"
        }
      ],
      "execution_count": null
    },
    {
      "cell_type": "code",
      "source": [
        "from sklearn.linear_model import LinearRegression\n",
        "from sklearn.neighbors import KNeighborsRegressor\n",
        "from sklearn.tree import DecisionTreeRegressor\n",
        "from sklearn.ensemble import RandomForestRegressor, GradientBoostingRegressor\n",
        "from xgboost import XGBRegressor\n",
        "from sklearn.metrics import mean_squared_error, r2_score\n",
        "from sklearn.model_selection import train_test_split # Import train_test_split\n",
        "\n",
        "# Define models\n",
        "models = {\n",
        "    'Linear Regression': LinearRegression(),\n",
        "    'KNN Regressor': KNeighborsRegressor(),\n",
        "    'Decision Tree': DecisionTreeRegressor(),\n",
        "    'Random Forest': RandomForestRegressor(n_estimators=100, random_state=42),\n",
        "    'Gradient Boosting': GradientBoostingRegressor(n_estimators=100, random_state=42),\n",
        "    'XGBoost': XGBRegressor(n_estimators=100, random_state=42)\n",
        "}\n",
        "\n",
        "# Assume 'data' is your DataFrame containing the data\n",
        "# Replace 'feature_columns' with the actual names of your feature columns\n",
        "# Replace 'target_column' with the actual name of your target column\n",
        "feature_columns = ['Votes']  # Example: Using 'Votes' as a feature\n",
        "target_column = 'Rating'\n",
        "\n",
        "# Split data into training and testing sets\n",
        "X = data[feature_columns]\n",
        "y = data[target_column]\n",
        "X_train, X_test, y_train, y_test = train_test_split(X, y, test_size=0.2, random_state=42) # Split the data\n",
        "\n",
        "# Evaluate each model\n",
        "results = {}\n",
        "for name, model in models.items():\n",
        "    # Train the model\n",
        "    model.fit(X_train, y_train)\n",
        "\n",
        "    # Predictions\n",
        "    y_pred = model.predict(X_test)\n",
        "\n",
        "    # Evaluation metrics\n",
        "    mse = mean_squared_error(y_test, y_pred)\n",
        "    r2 = r2_score(y_test, y_pred)\n",
        "\n",
        "    results[name] = {\n",
        "        'Mean Squared Error': mse,\n",
        "        'R2 Score': r2\n",
        "    }\n",
        "\n",
        "# Display results\n",
        "for model_name, metrics in results.items():\n",
        "    print(f\"Model: {model_name}\")\n",
        "    print(f\"  Mean Squared Error: {metrics['Mean Squared Error']:.4f}\")\n",
        "    print(f\"  R2 Score: {metrics['R2 Score']:.4f}\")\n",
        "    print()"
      ],
      "metadata": {
        "trusted": true,
        "id": "JXGhU42U1MDi"
      },
      "outputs": [],
      "execution_count": null
    },
    {
      "cell_type": "code",
      "source": [
        "from sklearn.model_selection import GridSearchCV\n",
        "\n",
        "# Define parameter grid\n",
        "param_grid = {\n",
        "    'n_estimators': [100, 100, 150],\n",
        "    'max_depth': [None, 10, 20, 30],\n",
        "    'min_samples_split': [2, 5, 10],\n",
        "    'min_samples_leaf': [1, 6, 4]\n",
        "}\n",
        "\n",
        "# Initialize the model\n",
        "rf = RandomForestRegressor(random_state=42)\n",
        "\n",
        "# Grid search\n",
        "grid_search = GridSearchCV(estimator=rf, param_grid=param_grid, cv=3, scoring='r2', verbose=2, n_jobs=-1)\n",
        "grid_search.fit(X_train, y_train)\n",
        "\n",
        "# Best parameters and score\n",
        "print(\"Best Parameters:\", grid_search.best_params_)\n",
        "print(\"Best R2 Score:\", grid_search.best_score_)\n"
      ],
      "metadata": {
        "trusted": true,
        "id": "aQyQqrDT1MDi"
      },
      "outputs": [],
      "execution_count": null
    },
    {
      "cell_type": "code",
      "source": [
        "from sklearn.model_selection import train_test_split\n",
        "from sklearn.linear_model import LinearRegression\n",
        "from sklearn.metrics import mean_squared_error, r2_score\n",
        "\n",
        "# Select features and target\n",
        "X = data[['Votes']]  # Add more features if available\n",
        "y = data['Rating']\n",
        "\n",
        "# Train-test split\n",
        "X_train, X_test, y_train, y_test = train_test_split(X, y, test_size=0.2, random_state=42)\n",
        "\n",
        "# Initialize and train the model\n",
        "model = LinearRegression()\n",
        "model.fit(X_train, y_train)\n",
        "\n",
        "# Predictions\n",
        "y_pred = model.predict(X_test)"
      ],
      "metadata": {
        "trusted": true,
        "id": "Uq70oUay1MDm"
      },
      "outputs": [],
      "execution_count": null
    },
    {
      "cell_type": "code",
      "source": [
        "# Evaluation metrics\n",
        "mse = mean_squared_error(y_test, y_pred)\n",
        "r2 = r2_score(y_test, y_pred)\n",
        "\n",
        "print(f\"Mean Squared Error: {mse}\")\n",
        "print(f\"R2 Score: {r2}\")\n",
        "\n"
      ],
      "metadata": {
        "trusted": true,
        "execution": {
          "iopub.status.busy": "2025-01-29T10:08:05.942844Z",
          "iopub.execute_input": "2025-01-29T10:08:05.943144Z",
          "iopub.status.idle": "2025-01-29T10:08:05.956963Z",
          "shell.execute_reply.started": "2025-01-29T10:08:05.943124Z",
          "shell.execute_reply": "2025-01-29T10:08:05.955825Z"
        },
        "id": "g3hlR99t1MDm",
        "outputId": "84c6683c-cf67-4c3b-9660-8a35403532e4"
      },
      "outputs": [
        {
          "traceback": [
            "\u001b[0;31m---------------------------------------------------------------------------\u001b[0m",
            "\u001b[0;31mNameError\u001b[0m                                 Traceback (most recent call last)",
            "\u001b[0;32m<ipython-input-38-4ee890d6f6eb>\u001b[0m in \u001b[0;36m<cell line: 3>\u001b[0;34m()\u001b[0m\n\u001b[1;32m      1\u001b[0m \u001b[0;31m# Evaluation metrics\u001b[0m\u001b[0;34m\u001b[0m\u001b[0;34m\u001b[0m\u001b[0m\n\u001b[1;32m      2\u001b[0m \u001b[0mmse\u001b[0m \u001b[0;34m=\u001b[0m \u001b[0mmean_squared_error\u001b[0m\u001b[0;34m(\u001b[0m\u001b[0my_test\u001b[0m\u001b[0;34m,\u001b[0m \u001b[0my_pred\u001b[0m\u001b[0;34m)\u001b[0m\u001b[0;34m\u001b[0m\u001b[0;34m\u001b[0m\u001b[0m\n\u001b[0;32m----> 3\u001b[0;31m \u001b[0mr2\u001b[0m \u001b[0;34m=\u001b[0m \u001b[0mr2_score\u001b[0m\u001b[0;34m(\u001b[0m\u001b[0my_test\u001b[0m\u001b[0;34m,\u001b[0m \u001b[0my_pred\u001b[0m\u001b[0;34m)\u001b[0m\u001b[0;34m\u001b[0m\u001b[0;34m\u001b[0m\u001b[0m\n\u001b[0m\u001b[1;32m      4\u001b[0m \u001b[0;34m\u001b[0m\u001b[0m\n\u001b[1;32m      5\u001b[0m \u001b[0mprint\u001b[0m\u001b[0;34m(\u001b[0m\u001b[0;34mf\"Mean Squared Error: {mse}\"\u001b[0m\u001b[0;34m)\u001b[0m\u001b[0;34m\u001b[0m\u001b[0;34m\u001b[0m\u001b[0m\n",
            "\u001b[0;31mNameError\u001b[0m: name 'r2_score' is not defined"
          ],
          "ename": "NameError",
          "evalue": "name 'r2_score' is not defined",
          "output_type": "error"
        }
      ],
      "execution_count": null
    },
    {
      "cell_type": "code",
      "source": [
        "import matplotlib.pyplot as plt\n",
        "\n",
        "# Plot Actual vs Predicted\n",
        "plt.figure(figsize=(10, 8))\n",
        "plt.scatter(y_test, y_pred, alpha=0.7)\n",
        "plt.xlabel(\"Actual Ratings\")\n",
        "plt.ylabel(\"Predicted Ratings\")\n",
        "plt.title(\"Actual vs Predicted Ratings\")\n",
        "plt.grid()\n",
        "plt.show()\n"
      ],
      "metadata": {
        "trusted": true,
        "execution": {
          "iopub.status.busy": "2025-01-29T10:08:25.298815Z",
          "iopub.execute_input": "2025-01-29T10:08:25.299168Z",
          "iopub.status.idle": "2025-01-29T10:08:25.512288Z",
          "shell.execute_reply.started": "2025-01-29T10:08:25.29914Z",
          "shell.execute_reply": "2025-01-29T10:08:25.51109Z"
        },
        "id": "r6-XAopI1MDm",
        "outputId": "25c7d786-840c-4b81-e21d-77625fc8b903"
      },
      "outputs": [
        {
          "output_type": "display_data",
          "data": {
            "text/plain": "<Figure size 1000x800 with 1 Axes>",
            "image/png": "[encoded data removed]"
          },
          "metadata": {}
        }
      ],
      "execution_count": null
    }
  ]
}